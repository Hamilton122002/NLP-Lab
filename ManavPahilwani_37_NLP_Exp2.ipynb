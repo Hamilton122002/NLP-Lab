{
  "nbformat": 4,
  "nbformat_minor": 0,
  "metadata": {
    "colab": {
      "provenance": []
    },
    "kernelspec": {
      "name": "python3",
      "display_name": "Python 3"
    },
    "language_info": {
      "name": "python"
    }
  },
  "cells": [
    {
      "cell_type": "code",
      "execution_count": 1,
      "metadata": {
        "colab": {
          "base_uri": "https://localhost:8080/"
        },
        "id": "vpZAUBnFpuzz",
        "outputId": "5fc4cb18-971b-44bd-ec7f-435ffbb7607c"
      },
      "outputs": [
        {
          "output_type": "stream",
          "name": "stderr",
          "text": [
            "[nltk_data] Downloading package punkt to /root/nltk_data...\n",
            "[nltk_data]   Unzipping tokenizers/punkt.zip.\n"
          ]
        },
        {
          "output_type": "stream",
          "name": "stdout",
          "text": [
            "Tokens: ['Lorem', 'ipsum', 'is', 'placeholder', 'text', 'commonly', 'used', 'in', 'the', 'graphic', ',', 'print', ',', 'and', 'publishing', 'industries', 'for', 'previewing', 'layouts', 'and', 'visual', 'mockups', '.']\n"
          ]
        }
      ],
      "source": [
        "import nltk\n",
        "from nltk.tokenize import word_tokenize\n",
        "\n",
        "nltk.download('punkt')\n",
        "\n",
        "text = \"Lorem ipsum is placeholder text commonly used in the graphic, print, and publishing industries for previewing layouts and visual mockups.\"\n",
        "tokens = word_tokenize(text)\n",
        "\n",
        "print(\"Tokens:\", tokens)\n"
      ]
    },
    {
      "cell_type": "code",
      "source": [
        "from nltk.corpus import stopwords\n",
        "import string\n",
        "\n",
        "nltk.download('stopwords')\n",
        "\n",
        "text = \"Lorem ipsum is placeholder text commonly used in the graphic, print, and publishing industries for previewing layouts and visual mockups.\"\n",
        "tokens = word_tokenize(text)\n",
        "\n",
        "stop_words = set(stopwords.words('english'))\n",
        "punctuation = set(string.punctuation)\n",
        "\n",
        "# Filtration\n",
        "filtered_tokens = [word for word in tokens if word.lower() not in stop_words and word not in punctuation]\n",
        "\n",
        "print(\"Filtered Tokens:\", filtered_tokens)\n"
      ],
      "metadata": {
        "colab": {
          "base_uri": "https://localhost:8080/"
        },
        "id": "QKGirlJgp4EM",
        "outputId": "35112c30-48e6-4a32-8d3b-41759d17f7a1"
      },
      "execution_count": 2,
      "outputs": [
        {
          "output_type": "stream",
          "name": "stdout",
          "text": [
            "Filtered Tokens: ['Lorem', 'ipsum', 'placeholder', 'text', 'commonly', 'used', 'graphic', 'print', 'publishing', 'industries', 'previewing', 'layouts', 'visual', 'mockups']\n"
          ]
        },
        {
          "output_type": "stream",
          "name": "stderr",
          "text": [
            "[nltk_data] Downloading package stopwords to /root/nltk_data...\n",
            "[nltk_data]   Unzipping corpora/stopwords.zip.\n"
          ]
        }
      ]
    },
    {
      "cell_type": "code",
      "source": [
        "import unicodedata\n",
        "\n",
        "def has_latin_script(text):\n",
        "    for char in text:\n",
        "        if 'LATIN' not in unicodedata.name(char):\n",
        "            return False\n",
        "    return True\n",
        "\n",
        "text = \"Lorem ipsum is placeholder text commonly used in the graphic, print, and publishing industries for previewing layouts and visual mockups.\"\n",
        "if has_latin_script(text):\n",
        "    print(\"Text is in Latin script.\")\n",
        "else:\n",
        "    print(\"Text is not in Latin script.\")\n"
      ],
      "metadata": {
        "colab": {
          "base_uri": "https://localhost:8080/"
        },
        "id": "dt3u1FAlqNMI",
        "outputId": "122180c9-b003-416c-d3e3-2231d8b54ff5"
      },
      "execution_count": 3,
      "outputs": [
        {
          "output_type": "stream",
          "name": "stdout",
          "text": [
            "Text is not in Latin script.\n"
          ]
        }
      ]
    }
  ]
}